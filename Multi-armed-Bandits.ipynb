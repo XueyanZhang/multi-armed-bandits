{
 "cells": [
  {
   "cell_type": "markdown",
   "id": "4496662c",
   "metadata": {},
   "source": [
    "# Multi-armed Bandits Algorithms\n",
    "\n",
    "This notebook explains and reproduces the most popular multi-armed bandits (MAB) algorithms:\n",
    "- epsilon-greedy\n",
    "- UCB\n",
    "- Thompson Sampling\n",
    "\n",
    "### What?\n",
    "MAB is a classic reinforcement learning problem for balancing the trade-off between exploration vs exploitation.\n",
    "\n",
    "Essentially, MAB formulates various kinds of sequential decision-making problems; thus, it is applicable to a wide range of scenarios.\n",
    "\n",
    "### Example\n",
    "In a casino, a gambler plays a slot machine that has `K` pulling arms (the story if there are `K` slot machines with one arm). \n",
    "\n",
    "How to leave the casino without being bankrupt? Or even with some earnings?\n",
    "\n",
    "##### Rules\n",
    "1. Each arm has a reward distribution that is initially unknown to the gambler.\n",
    "2. Each round, the gambler can only play one arm and only observe the reward of that very arm.\n",
    "\n",
    "##### Goal\n",
    "Maximize the cumulative reward before he bankrupts or the casino closes."
   ]
  },
  {
   "cell_type": "markdown",
   "id": "57b9d810",
   "metadata": {},
   "source": [
    "# Algorithms"
   ]
  },
  {
   "cell_type": "code",
   "execution_count": 4,
   "id": "04befc38",
   "metadata": {},
   "outputs": [],
   "source": [
    "import numpy as np\n",
    "import matplotlib.pyplot as plt"
   ]
  },
  {
   "cell_type": "markdown",
   "id": "b0bb0f59",
   "metadata": {},
   "source": [
    "# Problem (Bandit Environment)\n",
    "\n",
    "Don't get confused.\n",
    "\n",
    "MAB algorithms solves MAB problems.\n",
    "\n",
    "We need to define a problem first before investigating how each algorithms perform.\n",
    "\n",
    "### The gambler, Jack\n",
    "In front of Jack, the gambler, is a fancy slot machine, called the Fruit Machine.\n",
    "```\n",
    "  ______          _ _     __  __            _     _            \n",
    " |  ____|        (_) |   |  \\/  |          | |   (_)           \n",
    " | |__ _ __ _   _ _| |_  | \\  / | __ _  ___| |__  _ _ __   ___ \n",
    " |  __| '__| | | | | __| | |\\/| |/ _` |/ __| '_ \\| | '_ \\ / _ \\\n",
    " | |  | |  | |_| | | |_  | |  | | (_| | (__| | | | | | | |  __/\n",
    " |_|  |_|   \\__,_|_|\\__| |_|  |_|\\__,_|\\___|_| |_|_|_| |_|\\___|\n",
    "```\n",
    "\n",
    "##### Fruit Machine\n",
    "There are 3 arms/buttons that correspond to 3 different fruits (cherry, orange, and manage).\n",
    "\n",
    "Each time Jack pays $1 to play.\n",
    "\n",
    "This machine only requires one single brain cell to play:\n",
    "1. choose a fruit & pull its arm -> the wheel starts to spin -> the wheel stops\n",
    "2. win the prize (get back $2) or lose ($1 is gone)\n",
    "3. play again (going home is never an option for Jack :)"
   ]
  },
  {
   "cell_type": "code",
   "execution_count": 6,
   "id": "9fc9b5ad",
   "metadata": {},
   "outputs": [],
   "source": [
    "class SlotMachine(object):\n",
    "    \"\"\"\n",
    "    The basics of a generic slot machine\n",
    "    \"\"\"\n",
    "    def __init__(self, name: str):\n",
    "        self.bandit_name = name\n",
    "\n",
    "    def get_reward(self, arm_choice: int):\n",
    "        raise NotImplementedError"
   ]
  },
  {
   "cell_type": "code",
   "execution_count": 3,
   "id": "619a9f21",
   "metadata": {},
   "outputs": [],
   "source": [
    "class FruitSlotMachine(SlotMachine):\n",
    "    \"\"\"\n",
    "    An instance of Bernoulli Bandit. Reward obeys a Bernoulli distribution\n",
    "    This machine has 3 arms:\n",
    "    0 -- cherry\n",
    "    1 -- orange\n",
    "    2 -- mango\n",
    "    \"\"\"\n",
    "    def __init__(self, distribution: list = None):\n",
    "        \"\"\"\n",
    "        this machine supports two factory modes:\n",
    "        1. set a fixed win rate for each arm\n",
    "        2. randomize the win rate for each arm\n",
    "        \"\"\"\n",
    "        super().__init__(\"Fruit Machine\")\n",
    "        self.num_arms = 3 # fixed at 3\n",
    "        if distribution: # mode 1\n",
    "            assert len(distribution) == self.num_arms\n",
    "            self.distribution = distribution\n",
    "        else: # mode 2\n",
    "            self.distribution = [np.random.random() for _ in range(self.num_arms)]\n",
    "\n",
    "    def get_reward(self, arm_choice: int):\n",
    "        \"\"\"\n",
    "        return the sampled reward for the given arm choice\n",
    "        \n",
    "        Output:\n",
    "        reward -- 0 or 1\n",
    "        \"\"\"\n",
    "        if np.random.random() < self.distribution[arm_choice]:\n",
    "            return 1\n",
    "        else:\n",
    "            return 0"
   ]
  },
  {
   "cell_type": "code",
   "execution_count": null,
   "id": "3370488a",
   "metadata": {},
   "outputs": [],
   "source": []
  }
 ],
 "metadata": {
  "kernelspec": {
   "display_name": "Python 3 (ipykernel)",
   "language": "python",
   "name": "python3"
  },
  "language_info": {
   "codemirror_mode": {
    "name": "ipython",
    "version": 3
   },
   "file_extension": ".py",
   "mimetype": "text/x-python",
   "name": "python",
   "nbconvert_exporter": "python",
   "pygments_lexer": "ipython3",
   "version": "3.9.7"
  },
  "vscode": {
   "interpreter": {
    "hash": "31f2aee4e71d21fbe5cf8b01ff0e069b9275f58929596ceb00d14d90e3e16cd6"
   }
  }
 },
 "nbformat": 4,
 "nbformat_minor": 5
}
