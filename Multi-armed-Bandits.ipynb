{
 "cells": [
  {
   "cell_type": "markdown",
   "id": "4496662c",
   "metadata": {},
   "source": [
    "# Multi-armed Bandits Algorithms\n",
    "\n",
    "This notebook explains and reproduces the most popular multi-armed bandits (MAB) algorithms:\n",
    "- epsilon-greedy\n",
    "- UCB\n",
    "- Thompson Sampling\n",
    "\n",
    "### What?\n",
    "MAB is a classic reinforcement learning problem for balancing the trade-off between exploration vs exploitation.\n",
    "Essentially, MAB formulates various kinds of sequential decision-making problems; thus, it is applicable to a wide range of scenarios.\n",
    "\n",
    "### Example\n",
    "In a casino, a gambler plays a slot machine that has `K` pulling arms (the story if there are `K` slot machines with one arm). \n",
    "How to leave the casino without being bankrupt? Or even with some earnings?\n",
    "\n",
    "##### Rules\n",
    "1. Each arm has a reward distribution that is initially unknown to the gambler.\n",
    "2. Each round, the gambler can only play one arm and only observe the reward of that very arm.\n",
    "\n",
    "##### Goal\n",
    "Maximize the cumulative reward before he bankrupts or the casino closes."
   ]
  },
  {
   "cell_type": "code",
   "execution_count": null,
   "id": "04befc38",
   "metadata": {},
   "outputs": [],
   "source": []
  }
 ],
 "metadata": {
  "kernelspec": {
   "display_name": "Python 3 (ipykernel)",
   "language": "python",
   "name": "python3"
  },
  "language_info": {
   "codemirror_mode": {
    "name": "ipython",
    "version": 3
   },
   "file_extension": ".py",
   "mimetype": "text/x-python",
   "name": "python",
   "nbconvert_exporter": "python",
   "pygments_lexer": "ipython3",
   "version": "3.9.7"
  }
 },
 "nbformat": 4,
 "nbformat_minor": 5
}
